{
  "cells": [
    {
      "cell_type": "markdown",
      "metadata": {},
      "source": [
        "# sikandar\n",
        "\n",
        "this course provides a self-contained introduction to large language models. We will implement a tiny efficient llm called sikandar from scratch in the course."
      ]
    },
    {
      "cell_type": "markdown",
      "metadata": {},
      "source": [
        "## Overview"
      ]
    },
    {
      "cell_type": "markdown",
      "metadata": {},
      "source": [
        "We will implement sikandar to solve one task: given a sequence of words, predict what the next word should be.  As an example, consider the following sentence\n",
        "\n",
        "> an apple is ...\n",
        "\n",
        "sikandar's job is to predict a word that makes sense after it, e.g., \"red\".\n",
        "\n",
        "![Image](share/1.png)\n",
        "\n"
      ]
    },
    {
      "cell_type": "markdown",
      "metadata": {},
      "source": [
        "## Setting up the environment"
      ]
    },
    {
      "cell_type": "markdown",
      "metadata": {},
      "source": [
        "To get started, first create a python environment:\n",
        "\n",
        "```bash\n",
        "python3 -m venv .venv\n",
        "```\n",
        "\n",
        "then activate it:\n",
        "\n",
        "```bash\n",
        "source .venv/bin/activate\n",
        "```\n",
        "\n",
        "and finally install the requirements:\n",
        "\n",
        "```bash\n",
        "pip install -r requirements.txt\n",
        "```"
      ]
    }
  ],
  "metadata": {
    "kernelspec": {
      "display_name": "Python 3",
      "language": "python",
      "name": "python3"
    },
    "language_info": {
      "name": "python",
      "version": "3.12.6"
    }
  },
  "nbformat": 4,
  "nbformat_minor": 2
}
